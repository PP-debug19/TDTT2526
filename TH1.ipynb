{
 "cells": [
  {
   "cell_type": "code",
   "execution_count": 5,
   "id": "346fb1f9-c099-4d00-8892-4379cbeef03b",
   "metadata": {},
   "outputs": [
    {
     "name": "stdout",
     "output_type": "stream",
     "text": [
      "hello IS5 Chuc cac ban hoc tot\n",
      "Mon nay ten la tu duy tinh toan\n"
     ]
    }
   ],
   "source": [
    "#W2A1 - comment line\n",
    "'''\n",
    "\n",
    "'''\n",
    "print(\"hello\",\"IS5\",\"Chuc cac ban hoc tot\", sep = ' ', end = '\\n')\n",
    "print(\"Mon nay ten la tu duy tinh toan\")"
   ]
  },
  {
   "cell_type": "code",
   "execution_count": 8,
   "id": "cd6a8c33-1b8d-419e-921b-5e0b8fe2de62",
   "metadata": {},
   "outputs": [
    {
     "name": "stdout",
     "output_type": "stream",
     "text": [
      "\n",
      "srping\n",
      "summer\n",
      "autumn\n",
      "winter\n",
      "spring\n",
      "summer\n",
      "autumn\n",
      "winter\n",
      "spring\n",
      "summer\n",
      "autumn\n",
      "winter\n"
     ]
    }
   ],
   "source": [
    "#W2A2 - comment line\n",
    "print('''\n",
    "srping\n",
    "summer\n",
    "autumn\n",
    "winter''')\n",
    "print(\"spring\\nsummer\\nautumn\\nwinter\")\n",
    "print(\"spring\",\"summer\",\"autumn\",\"winter\", sep='\\n')"
   ]
  },
  {
   "cell_type": "code",
   "execution_count": 10,
   "id": "9bdbe1b6-606d-40c5-93b3-eec258930932",
   "metadata": {},
   "outputs": [
    {
     "name": "stdout",
     "output_type": "stream",
     "text": [
      "  *\n",
      " ***\n",
      "*****\n"
     ]
    }
   ],
   "source": [
    "#W2A3 - comment line\n",
    "print(\"  *\",\" ***\",\"*****\", sep='\\n')"
   ]
  },
  {
   "cell_type": "code",
   "execution_count": 12,
   "id": "e12b69d3-e08f-433b-9596-c07d1b37b4b5",
   "metadata": {},
   "outputs": [
    {
     "name": "stdout",
     "output_type": "stream",
     "text": [
      "\n",
      "### # #  ### ###\n",
      " #  #  #  #   #\n",
      " #  #  #  #   #\n",
      " #  # #   #   # \n",
      " \n"
     ]
    }
   ],
   "source": [
    "print('''\n",
    "### # #  ### ###\n",
    " #  #  #  #   #\n",
    " #  #  #  #   #\n",
    " #  # #   #   # \n",
    " ''')"
   ]
  },
  {
   "cell_type": "code",
   "execution_count": 14,
   "id": "5626fa84-3c93-4f91-9aab-71920ae5345f",
   "metadata": {},
   "outputs": [
    {
     "name": "stdin",
     "output_type": "stream",
     "text": [
      " Heyyo\n"
     ]
    },
    {
     "name": "stdout",
     "output_type": "stream",
     "text": [
      "hello Heyyo\n"
     ]
    }
   ],
   "source": [
    "#W2A2\n",
    "name= input() #Lay het ca line nguoi dung nhap vao\n",
    "print(\"hello\", name)"
   ]
  },
  {
   "cell_type": "code",
   "execution_count": null,
   "id": "989d5f4a-152a-4822-8b92-0e3cf052889d",
   "metadata": {},
   "outputs": [],
   "source": []
  },
  {
   "cell_type": "code",
   "execution_count": 15,
   "id": "a74b8be3-3a65-45b2-93ea-90214dfa790a",
   "metadata": {},
   "outputs": [
    {
     "name": "stdin",
     "output_type": "stream",
     "text": [
      " 12\n",
      " 23\n"
     ]
    },
    {
     "name": "stdout",
     "output_type": "stream",
     "text": [
      "35\n"
     ]
    }
   ],
   "source": [
    "a=int(input())\n",
    "b=int(input())\n",
    "print(a+b)\n"
   ]
  },
  {
   "cell_type": "code",
   "execution_count": 20,
   "id": "7c57848d-6621-43b0-9dda-3322fbcab36a",
   "metadata": {},
   "outputs": [
    {
     "name": "stdin",
     "output_type": "stream",
     "text": [
      " 1 2 3 4 5 6\n"
     ]
    },
    {
     "name": "stdout",
     "output_type": "stream",
     "text": [
      "4.2\n"
     ]
    }
   ],
   "source": [
    "#W2A4\n",
    "line = input()\n",
    "a1,b1,c1,a2,b2,a3=map(float, line.split())\n",
    "TB=((a1+b1+c1)+(a2+b2)*2+a3*3)/10\n",
    "print(f'{TB:.1f}') #f' la number format-string - f sau la float-format so chu so thap phan"
   ]
  },
  {
   "cell_type": "code",
   "execution_count": 21,
   "id": "1112205c-7ba1-4c5d-b79b-551b0eb29667",
   "metadata": {},
   "outputs": [
    {
     "name": "stdin",
     "output_type": "stream",
     "text": [
      " 2 3\n"
     ]
    },
    {
     "data": {
      "text/plain": [
       "8"
      ]
     },
     "execution_count": 21,
     "metadata": {},
     "output_type": "execute_result"
    }
   ],
   "source": [
    "#W2A5\n",
    "line=input()\n",
    "a,b=map(int,line.split())\n",
    "a**b"
   ]
  },
  {
   "cell_type": "code",
   "execution_count": 26,
   "id": "3f8fc22b-c06a-4ce6-9791-3a5657bc4ae3",
   "metadata": {},
   "outputs": [
    {
     "name": "stdin",
     "output_type": "stream",
     "text": [
      " a\n"
     ]
    },
    {
     "name": "stdout",
     "output_type": "stream",
     "text": [
      "A\n"
     ]
    }
   ],
   "source": [
    "#W2A6\n",
    "text=input()\n",
    "orderCap=ord(text)-32\n",
    "print(chr(orderCap))"
   ]
  },
  {
   "cell_type": "code",
   "execution_count": 30,
   "id": "b3857275-fd2e-4798-9c76-592a4d7b557c",
   "metadata": {},
   "outputs": [
    {
     "name": "stdout",
     "output_type": "stream",
     "text": [
      "512 512\n"
     ]
    }
   ],
   "source": [
    "#W2A7\n",
    "A = ((13 ** 2) * 3) + 5\n",
    "B = 13**2*3 + 5\n",
    "print(A,B)"
   ]
  },
  {
   "cell_type": "code",
   "execution_count": 41,
   "id": "4d7a1360-0ba3-4c6d-b4ff-2d6ca67a6b2c",
   "metadata": {},
   "outputs": [
    {
     "name": "stdin",
     "output_type": "stream",
     "text": [
      " 10\n"
     ]
    },
    {
     "name": "stdout",
     "output_type": "stream",
     "text": [
      "50.00\n"
     ]
    }
   ],
   "source": [
    "#W2A8\n",
    "C=float(input())\n",
    "Far = 9/5*C + 32\n",
    "print(f'{Far:.2f}')"
   ]
  },
  {
   "cell_type": "code",
   "execution_count": 42,
   "id": "3c750a19-1910-43ad-880f-2b30f892be85",
   "metadata": {},
   "outputs": [
    {
     "name": "stdin",
     "output_type": "stream",
     "text": [
      " 50\n"
     ]
    },
    {
     "name": "stdout",
     "output_type": "stream",
     "text": [
      "80.00\n"
     ]
    }
   ],
   "source": [
    "#W2A9\n",
    "x=float(input())\n",
    "final=x*1.4+10\n",
    "print(f'{final:.2f}')"
   ]
  },
  {
   "cell_type": "code",
   "execution_count": 47,
   "id": "0077c0e1-7cd2-45ae-a5a8-49f26ca82096",
   "metadata": {},
   "outputs": [
    {
     "name": "stdin",
     "output_type": "stream",
     "text": [
      " alice bob helen\n"
     ]
    },
    {
     "name": "stdout",
     "output_type": "stream",
     "text": [
      "hi helen, bob and alice.\n"
     ]
    }
   ],
   "source": [
    "#W2A10\n",
    "name1, name2, name3=input().split()\n",
    "print(\"hi \",name3,', ',name2,\" and \",name1,'.',sep='')"
   ]
  },
  {
   "cell_type": "code",
   "execution_count": null,
   "id": "98337cc1-522b-4d0f-8754-63d07eeb7efc",
   "metadata": {},
   "outputs": [],
   "source": [
    "#W2A13\n",
    "a,b=map(int,input().split())\n",
    "tich=a*b\n",
    "print(tich, tich%10)"
   ]
  },
  {
   "cell_type": "code",
   "execution_count": 1,
   "id": "cc3b56d3-6d82-4041-bc2c-6c119a5253a0",
   "metadata": {},
   "outputs": [
    {
     "name": "stdin",
     "output_type": "stream",
     "text": [
      "Nhap so gio va phut: 4 5\n"
     ]
    },
    {
     "name": "stdout",
     "output_type": "stream",
     "text": [
      "So giay la: 14700\n"
     ]
    }
   ],
   "source": [
    "#W2A11\n",
    "line=input('Nhap so gio va phut:')\n",
    "h,m=map(int,line.split())\n",
    "s=m*60+h*3600\n",
    "print('So giay la:',s)"
   ]
  },
  {
   "cell_type": "code",
   "execution_count": 2,
   "id": "27c1ff9a-b992-4ef3-8ae9-ddef8feb186d",
   "metadata": {},
   "outputs": [
    {
     "name": "stdin",
     "output_type": "stream",
     "text": [
      " 4\n"
     ]
    },
    {
     "name": "stdout",
     "output_type": "stream",
     "text": [
      "So luong mieng dan rieng le can: 576\n"
     ]
    }
   ],
   "source": [
    "#W2A12\n",
    "n=int(input())\n",
    "s=n*n*6\n",
    "S=6*s\n",
    "print('So luong mieng dan rieng le can:',S)"
   ]
  },
  {
   "cell_type": "code",
   "execution_count": null,
   "id": "f3be9543-1582-44bc-b4a6-fd827d0e53fd",
   "metadata": {},
   "outputs": [],
   "source": [
    "#W2A15\n"
   ]
  }
 ],
 "metadata": {
  "kernelspec": {
   "display_name": "Python [conda env:base] *",
   "language": "python",
   "name": "conda-base-py"
  },
  "language_info": {
   "codemirror_mode": {
    "name": "ipython",
    "version": 3
   },
   "file_extension": ".py",
   "mimetype": "text/x-python",
   "name": "python",
   "nbconvert_exporter": "python",
   "pygments_lexer": "ipython3",
   "version": "3.13.5"
  }
 },
 "nbformat": 4,
 "nbformat_minor": 5
}
