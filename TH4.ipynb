{
 "cells": [
  {
   "cell_type": "code",
   "execution_count": null,
   "id": "052a4c37-d230-4412-bfbb-7ce36e289cd6",
   "metadata": {},
   "outputs": [],
   "source": [
    "#try-except\n"
   ]
  },
  {
   "cell_type": "code",
   "execution_count": 5,
   "id": "f0f81ad7-d0a3-4da1-9ad1-2cd3e6307c42",
   "metadata": {},
   "outputs": [
    {
     "name": "stdin",
     "output_type": "stream",
     "text": [
      "Nhap so nguyen n: 20\n"
     ]
    },
    {
     "name": "stdout",
     "output_type": "stream",
     "text": [
      "210\n"
     ]
    }
   ],
   "source": [
    "#W4A1\n",
    "n=int(input('Nhap so nguyen n:'))\n",
    "S=0\n",
    "if n>1000: print('Nhap lai')\n",
    "else:\n",
    "    for i in range(1,n+1):\n",
    "        S=S+i\n",
    "    print(S)"
   ]
  },
  {
   "cell_type": "code",
   "execution_count": 16,
   "id": "1e0f70ae-8770-4ab4-9676-56a15d380360",
   "metadata": {},
   "outputs": [
    {
     "name": "stdin",
     "output_type": "stream",
     "text": [
      "Nhap so nguyen n 12\n"
     ]
    },
    {
     "name": "stdout",
     "output_type": "stream",
     "text": [
      "Giai thua cua 12 la: 479001600\n"
     ]
    }
   ],
   "source": [
    "#W4A3: Viết chương trình tính giai thừa của một số nguyên n cho trước (n!=1×2×…×n) với 0 < n < 100. \n",
    "try: \n",
    "    n=int(input('Nhap so nguyen n'))\n",
    "    ngt=1\n",
    "    for i in range(1,n+1):\n",
    "        ngt=ngt*i\n",
    "    print('Giai thua cua',n,'la:',ngt)\n",
    "except ValueError:\n",
    "    print('Nhap du lieu sai')"
   ]
  },
  {
   "cell_type": "code",
   "execution_count": 7,
   "id": "dc357472-d1a1-4379-a6b3-18181a1ce997",
   "metadata": {},
   "outputs": [
    {
     "name": "stdin",
     "output_type": "stream",
     "text": [
      "Nhap so n -2\n",
      "Nhap so n -4\n",
      "Nhap so n 2\n"
     ]
    },
    {
     "name": "stdout",
     "output_type": "stream",
     "text": [
      "So nguyen duong ban nhap duoc la: 2\n"
     ]
    }
   ],
   "source": [
    "#[PrimeNumber]\n",
    "#VIết chương trình nhập vào một số tới khi được một số nguyên dương thì thôi.\n",
    "#Kiểm tra số này có phải là số nguyên tố hay không? \n",
    "n=0\n",
    "for _ in range(10000): #Khong can i\n",
    "    n=int(input('Nhap so n'))\n",
    "    if(n>0):\n",
    "        break\n",
    "    else:\n",
    "        continue\n",
    "        print('Ban phai nhap lai n')\n",
    "print('So nguyen duong ban nhap duoc la:',n)\n",
    "\n",
    "#sau 'continue' thi code se khong chay."
   ]
  },
  {
   "cell_type": "code",
   "execution_count": 14,
   "id": "d0130f53-500d-4fb5-aa46-b7a566badb50",
   "metadata": {},
   "outputs": [
    {
     "name": "stdin",
     "output_type": "stream",
     "text": [
      "Nhap so n:  30001\n"
     ]
    },
    {
     "name": "stdout",
     "output_type": "stream",
     "text": [
      "Dung tai 19\n",
      "30001 khong phai so nguyen to\n"
     ]
    }
   ],
   "source": [
    "#Tim so nguyen to(chi chia het cho 1 va chinh no)\n",
    "import math\n",
    "n = int(input(\"Nhap so n: \"))\n",
    "if n < 2:\n",
    "    print(n, \"khong phai so nguyen to\")\n",
    "else:\n",
    "    flag = True  # assume n is prime\n",
    "    for i in range(2, int(math.sqrt(n)) + 1):\n",
    "        if n % i == 0:\n",
    "            print('Dung tai',i)\n",
    "            flag = False\n",
    "            break\n",
    "    if flag:\n",
    "        print(n, \"la so nguyen to\")\n",
    "    else:\n",
    "        print(n, \"khong phai so nguyen to\")\n",
    "\n"
   ]
  },
  {
   "cell_type": "code",
   "execution_count": 17,
   "id": "56d8852d-9f56-4279-9f3d-69608da6a8fa",
   "metadata": {},
   "outputs": [
    {
     "name": "stdin",
     "output_type": "stream",
     "text": [
      " 0\n"
     ]
    },
    {
     "name": "stdout",
     "output_type": "stream",
     "text": [
      "0\n"
     ]
    }
   ],
   "source": [
    "#Viết chương trình nhập vào một số nguyên n và in ra màn hình số chữ số (trừ dấu)\n",
    "#của số đó. Không dùng kiểu dữ liệu string.\n",
    "try:\n",
    "    n = int(input())\n",
    "    n = abs(n)\n",
    "    count = 0\n",
    "    # nếu n == 0 thì có 1 chữ số\n",
    "    if n == 0:\n",
    "        count = 1\n",
    "    else:\n",
    "        for _ in range(10000):\n",
    "            if n > 0:\n",
    "                count += 1\n",
    "                n //= 10\n",
    "            else:\n",
    "                break\n",
    "    print(count)\n",
    "except ValueError: \n",
    "    print('Nhap sai du lieu')\n",
    "\n",
    "    "
   ]
  },
  {
   "cell_type": "code",
   "execution_count": 21,
   "id": "5453f67e-5ab6-434c-9d28-94aa44ff7eb8",
   "metadata": {},
   "outputs": [
    {
     "name": "stdin",
     "output_type": "stream",
     "text": [
      " 7\n",
      " 4\n",
      " 3\n",
      " 5\n",
      " 2\n",
      " 42\n"
     ]
    },
    {
     "name": "stdout",
     "output_type": "stream",
     "text": [
      "I've found the meaning of life\n"
     ]
    }
   ],
   "source": [
    "try:\n",
    "    n = int(input())\n",
    "    flag = False\n",
    "    for _ in range(n):\n",
    "        a = int(input())\n",
    "        if a == 42: \n",
    "            print(\"I've found the meaning of life\")  #0 dung nhay don vi co ' o trong cau\n",
    "            flag = True\n",
    "            break\n",
    "    if flag == False: \n",
    "        print(\"It's a joke\")\n",
    "except ValueError:\n",
    "    print('Nhap sai du lieu')"
   ]
  },
  {
   "cell_type": "code",
   "execution_count": 5,
   "id": "9d88e572-c1aa-4c33-9e48-a496fa1e2d29",
   "metadata": {},
   "outputs": [
    {
     "name": "stdin",
     "output_type": "stream",
     "text": [
      " 24\n"
     ]
    },
    {
     "name": "stdout",
     "output_type": "stream",
     "text": [
      "2 4 6 8 12 24 6\n"
     ]
    }
   ],
   "source": [
    "#Viết chương trình đếm số lượng ước số chẵn của số nguyên dương n với n < 10^6\n",
    "n = int(input())\n",
    "dem = 0\n",
    "for i in range(1,n+1):\n",
    "    if n % i == 0 and i % 2 == 0:\n",
    "        print(i, end = ' ')\n",
    "        dem += 1\n",
    "print(dem)"
   ]
  },
  {
   "cell_type": "code",
   "execution_count": 4,
   "id": "4fd06dac-b94d-4013-bc43-230a55be79cc",
   "metadata": {},
   "outputs": [
    {
     "name": "stdin",
     "output_type": "stream",
     "text": [
      " 24\n"
     ]
    },
    {
     "name": "stdout",
     "output_type": "stream",
     "text": [
      "6\n"
     ]
    }
   ],
   "source": [
    "#Cach2 For(start,stop,step)\n",
    "n = int(input())\n",
    "dem = 0\n",
    "for i in range(2,n+1,2):\n",
    "    if n % i == 0:\n",
    "        print(i, end = ' ')\n",
    "        dem += 1\n",
    "print(dem)"
   ]
  },
  {
   "cell_type": "code",
   "execution_count": 12,
   "id": "10f67187-fb88-492d-ab1b-9be73d2b20a2",
   "metadata": {},
   "outputs": [
    {
     "name": "stdin",
     "output_type": "stream",
     "text": [
      "Nhap so tien 20000\n",
      "Nhap so thang 4\n"
     ]
    },
    {
     "name": "stdout",
     "output_type": "stream",
     "text": [
      "324504\n"
     ]
    }
   ],
   "source": [
    "#WW4A12\n",
    "n=int(input('Nhap so tien'))\n",
    "x=int(input('Nhap so thang'))\n",
    "for _ in range(x):\n",
    "    n += n*1.007\n",
    "print(round(n))"
   ]
  },
  {
   "cell_type": "code",
   "execution_count": 8,
   "id": "f8b6c45c-a686-41f9-81ec-e4603115b1ba",
   "metadata": {},
   "outputs": [
    {
     "name": "stdin",
     "output_type": "stream",
     "text": [
      "Nhap so thu nhat:  220\n",
      "Nhap so thu hai:  284\n"
     ]
    },
    {
     "name": "stdout",
     "output_type": "stream",
     "text": [
      "true\n"
     ]
    }
   ],
   "source": [
    "#WW4A13\n",
    "a = int(input(\"Nhap so thu nhat: \"))\n",
    "b = int(input(\"Nhap so thu hai: \"))\n",
    "tong_a = 0\n",
    "for i in range(1, a):\n",
    "    if a % i == 0:\n",
    "        tong_a += i\n",
    "tong_b = 0\n",
    "for i in range(1, b):\n",
    "    if b % i == 0:\n",
    "        tong_b += i\n",
    "if tong_a == b and tong_b == a:\n",
    "    print(\"true\")   \n",
    "else:\n",
    "    print(\"false\")  "
   ]
  },
  {
   "cell_type": "code",
   "execution_count": 14,
   "id": "367c3f08-0dad-4a1a-99cb-62d27f6635e0",
   "metadata": {},
   "outputs": [
    {
     "name": "stdin",
     "output_type": "stream",
     "text": [
      "Nhap so m:  6\n",
      "Nhap so n:  8\n"
     ]
    },
    {
     "name": "stdout",
     "output_type": "stream",
     "text": [
      "Uoc chung lon nhat cua 6 va 8 la: 2\n"
     ]
    }
   ],
   "source": [
    "#WW4A14\n",
    "m = int(input(\"Nhap so m: \"))\n",
    "n = int(input(\"Nhap so n: \"))\n",
    "ucln = 1 \n",
    "for i in range(1, min(m, n) + 1):  \n",
    "    if m % i == 0 and n % i == 0: \n",
    "        ucln = i  \n",
    "print(\"Uoc chung lon nhat cua\", m, \"va\", n, \"la:\", ucln)\n"
   ]
  },
  {
   "cell_type": "code",
   "execution_count": 19,
   "id": "6cf8ec95-4609-4ee0-addc-7c0f563b662c",
   "metadata": {},
   "outputs": [
    {
     "name": "stdin",
     "output_type": "stream",
     "text": [
      " 5 100\n"
     ]
    },
    {
     "name": "stdout",
     "output_type": "stream",
     "text": [
      "5\n"
     ]
    }
   ],
   "source": [
    "#WW4A14-c2\n",
    "a,b=map(int,input().split())\n",
    "ucln = 0\n",
    "for _ in range(10000):\n",
    "    if (a == b):\n",
    "        ucln = a\n",
    "        break\n",
    "    else:\n",
    "        if a>b:\n",
    "            a=a-b\n",
    "        else: \n",
    "            b=b-a\n",
    "print(ucln)"
   ]
  },
  {
   "cell_type": "code",
   "execution_count": 20,
   "id": "881c85ae-4f7a-41fb-8359-dbd95789ac1b",
   "metadata": {},
   "outputs": [
    {
     "name": "stdin",
     "output_type": "stream",
     "text": [
      " 5 100\n"
     ]
    },
    {
     "name": "stdout",
     "output_type": "stream",
     "text": [
      "5\n"
     ]
    }
   ],
   "source": [
    "#WW4A14-c3\n",
    "a,b=map(int,input().split())\n",
    "ucln = 0\n",
    "for _ in range(10000):\n",
    "    if a*b == 0:\n",
    "        ucln = a +b\n",
    "        break\n",
    "    else:\n",
    "        if a>b:\n",
    "            a=a%b\n",
    "        else: \n",
    "            b=b%a\n",
    "print(ucln)"
   ]
  },
  {
   "cell_type": "code",
   "execution_count": null,
   "id": "3d6e888a-2170-4bd8-ae32-ace5f72f9807",
   "metadata": {},
   "outputs": [],
   "source": [
    "#W4A15\n",
    "tong_con = int(input(\"Nhap tong so con: \"))\n",
    "tong_chan = int(input(\"Nhap tong so chan: \"))\n",
    "found = False  \n",
    "for ga in range(tong_con + 1):     \n",
    "    cho = tong_con - ga            \n",
    "    chan = ga * 2 + cho * 4        \n",
    "    if chan == tong_chan:            \n",
    "        print(\"So ga:\", ga)\n",
    "        print(\"So cho:\", cho)\n",
    "        found = True\n",
    "        break                       \n",
    "if not found:\n",
    "    print(\"invalid\")\n"
   ]
  }
 ],
 "metadata": {
  "kernelspec": {
   "display_name": "Python [conda env:base] *",
   "language": "python",
   "name": "conda-base-py"
  },
  "language_info": {
   "codemirror_mode": {
    "name": "ipython",
    "version": 3
   },
   "file_extension": ".py",
   "mimetype": "text/x-python",
   "name": "python",
   "nbconvert_exporter": "python",
   "pygments_lexer": "ipython3",
   "version": "3.13.5"
  }
 },
 "nbformat": 4,
 "nbformat_minor": 5
}
