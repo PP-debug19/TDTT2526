{
 "cells": [
  {
   "cell_type": "code",
   "execution_count": 1,
   "id": "f5c74e49-08ed-4caa-920c-f822d999a993",
   "metadata": {},
   "outputs": [
    {
     "name": "stdin",
     "output_type": "stream",
     "text": [
      " 3\n"
     ]
    },
    {
     "name": "stdout",
     "output_type": "stream",
     "text": [
      "9\n"
     ]
    }
   ],
   "source": [
    "#Bai1\n",
    "n=int(input())\n",
    "print(n*n)"
   ]
  },
  {
   "cell_type": "code",
   "execution_count": 12,
   "id": "37475c1b-45b4-4d4d-831c-80ab81ec48a6",
   "metadata": {},
   "outputs": [
    {
     "name": "stdin",
     "output_type": "stream",
     "text": [
      " 4 8\n"
     ]
    },
    {
     "name": "stdout",
     "output_type": "stream",
     "text": [
      "Dien tich con lai la:  19.44\n"
     ]
    }
   ],
   "source": [
    "#Bai2\n",
    "line=input()\n",
    "a,b=map(float,line.split())\n",
    "if a>b: \n",
    "    S=3.14*(b/2)*(b/2)\n",
    "else: S=3.14*(a/2)*(a/2)\n",
    "S2=(a*b)-S\n",
    "print(\"Dien tich con lai la: \", f'{S2:.2f}')"
   ]
  },
  {
   "cell_type": "code",
   "execution_count": 8,
   "id": "7243e12e-2862-4906-9d5f-fc1a71933317",
   "metadata": {},
   "outputs": [
    {
     "name": "stdin",
     "output_type": "stream",
     "text": [
      " c\n"
     ]
    },
    {
     "name": "stdout",
     "output_type": "stream",
     "text": [
      "C\n"
     ]
    }
   ],
   "source": [
    "#Bai3\n",
    "c=input()\n",
    "if c==c.upper(): \n",
    " print(c.lower())\n",
    "else:print(c.upper())"
   ]
  },
  {
   "cell_type": "code",
   "execution_count": 13,
   "id": "7d202063-d5fe-43a3-86eb-93e17d3dfd4e",
   "metadata": {},
   "outputs": [
    {
     "name": "stdin",
     "output_type": "stream",
     "text": [
      " a\n"
     ]
    },
    {
     "name": "stdout",
     "output_type": "stream",
     "text": [
      "a  la ki tu alphabet\n"
     ]
    }
   ],
   "source": [
    "#Bai4\n",
    "a=input()\n",
    "if a.isalpha(): \n",
    "    print(a,'la ki tu alphabet')\n",
    "else: print(a,'khong phai la ki tu alphabet')"
   ]
  },
  {
   "cell_type": "code",
   "execution_count": 1,
   "id": "d7ca1ab4-799f-42f7-b296-b43d70f1cf43",
   "metadata": {},
   "outputs": [
    {
     "name": "stdin",
     "output_type": "stream",
     "text": [
      "Nhập chữ cái hoa:  n\n"
     ]
    },
    {
     "name": "stdout",
     "output_type": "stream",
     "text": [
      "Chữ cái thường đứng trước: m\n"
     ]
    }
   ],
   "source": [
    "#Bai5\n",
    "c = input(\"Nhập chữ cái hoa: \")\n",
    "if c == 'A':\n",
    "    print(\"Trường hợp đặc biệt: trước 'a' là 'z'\")\n",
    "else:\n",
    "    # chuyển sang chữ thường\n",
    "    lower_c = c.lower()\n",
    "    # tìm chữ cái trước\n",
    "    prev_char = chr(ord(lower_c) - 1)\n",
    "    print(\"Chữ cái thường đứng trước:\", prev_char)\n"
   ]
  },
  {
   "cell_type": "code",
   "execution_count": 3,
   "id": "be551d1c-a667-4b5a-88f1-26ef64d05755",
   "metadata": {},
   "outputs": [
    {
     "name": "stdin",
     "output_type": "stream",
     "text": [
      " 5.5 4 1\n"
     ]
    },
    {
     "name": "stdout",
     "output_type": "stream",
     "text": [
      "Khong phai la tam giac\n"
     ]
    }
   ],
   "source": [
    "#Bai6\n",
    "import math\n",
    "line=input()\n",
    "a,b,c=map(float,line.split())\n",
    "if a+b>c and a+c>b and b+c>a: \n",
    "    p=(a+b+c)/2\n",
    "    S=math.sqrt(p*(p-a)*(p-b)*(p-c))\n",
    "    print('Dien tich la:',S)\n",
    "else: print('Khong phai la tam giac')"
   ]
  },
  {
   "cell_type": "code",
   "execution_count": 5,
   "id": "66a13b5d-1f56-4858-a20b-eba37f3a0f75",
   "metadata": {},
   "outputs": [
    {
     "name": "stdin",
     "output_type": "stream",
     "text": [
      "Nhap day ki tu: qazxswedv\n"
     ]
    },
    {
     "name": "stdout",
     "output_type": "stream",
     "text": [
      "Day ki tu qua ngan\n"
     ]
    }
   ],
   "source": [
    "#Bai7\n",
    "s=input('Nhap day ki tu:')\n",
    "if len(s)<20: print('Day ki tu qua ngan')\n",
    "else: \n",
    "    char_5=s[4]\n",
    "    char_8=s[8] #Day ki tu trong python bat dau tu 0\n",
    "    print('Ki tu thu 5 la:',char_5)\n",
    "    print('Ki tu thu 9 la:',char_8)"
   ]
  },
  {
   "cell_type": "code",
   "execution_count": 5,
   "id": "cb3ce344-263f-4dde-b52a-39cd78f9761d",
   "metadata": {},
   "outputs": [
    {
     "name": "stdin",
     "output_type": "stream",
     "text": [
      "Nhap ten chu ho: L\n",
      "Nhap so dien thang truoc: 2097\n",
      "Nhap so dien thang nay: 2278\n"
     ]
    },
    {
     "name": "stdout",
     "output_type": "stream",
     "text": [
      "Ho va ten: L\n",
      "Tien phai tra la: 426038\n"
     ]
    }
   ],
   "source": [
    "#Bai8\n",
    "ten=input('Nhap ten chu ho:')\n",
    "truoc=int(input('Nhap so dien thang truoc:'))\n",
    "sau=int(input('Nhap so dien thang nay:'))\n",
    "so_kwh=sau-truoc\n",
    "if so_kwh<=50: tien=so_kwh*1984\n",
    "elif so_kwh<=100: tien= 50*1984+(so_kwh-50)*2050\n",
    "elif so_kwh<=200: tien=50*1984+50*2050+(so_kwh-100)*2380\n",
    "elif so_kwh<=300: tien=50*1984+50*2050+100*2380+(so_kwh-200)*2998\n",
    "elif so_kwh<=400: tien=50*1984+50*2050+100*2380+100*2998+(so_kwh-300)*3350\n",
    "else: tien=50*1984+50*2050+100*2380+100*2998+100*3350+(so_kwh-400)*3460\n",
    "sotien=round(tien*1.08)\n",
    "print('Ho va ten:',ten)\n",
    "print('Tien phai tra la:',sotien)"
   ]
  },
  {
   "cell_type": "code",
   "execution_count": 4,
   "id": "8b21d8bd-31eb-4b45-b78d-d75ab5779cbf",
   "metadata": {},
   "outputs": [
    {
     "name": "stdin",
     "output_type": "stream",
     "text": [
      "Nhap so: 2\n"
     ]
    },
    {
     "name": "stdout",
     "output_type": "stream",
     "text": [
      "2 la so chan\n"
     ]
    }
   ],
   "source": [
    "#BT1\n",
    "a=int(input('Nhap so:'))\n",
    "if a%2==0: \n",
    "    print(a,'la so chan')\n",
    "else: print(a,'la so le')"
   ]
  },
  {
   "cell_type": "code",
   "execution_count": 7,
   "id": "a96de2ef-51ba-4db0-afdd-ce93b725a98b",
   "metadata": {},
   "outputs": [
    {
     "name": "stdin",
     "output_type": "stream",
     "text": [
      "Nhap so nguyen: 46\n"
     ]
    },
    {
     "name": "stdout",
     "output_type": "stream",
     "text": [
      "False\n"
     ]
    }
   ],
   "source": [
    "#BT2\n",
    "a=int(input('Nhap so nguyen:'))\n",
    "if a%5==0: print('True')\n",
    "else: print('False')"
   ]
  },
  {
   "cell_type": "code",
   "execution_count": 3,
   "id": "69ee2035-5190-4a81-b1da-6611f5a62cfe",
   "metadata": {},
   "outputs": [
    {
     "name": "stdin",
     "output_type": "stream",
     "text": [
      "Nhap so: 1945\n"
     ]
    },
    {
     "name": "stdout",
     "output_type": "stream",
     "text": [
      "False\n"
     ]
    }
   ],
   "source": [
    "#BT3\n",
    "a=int(input('Nhap so:'))\n",
    "if a%3==0 and a%5==0: print('True')\n",
    "else: print('False')\n"
   ]
  },
  {
   "cell_type": "code",
   "execution_count": 5,
   "id": "c7c6853a-4880-4fae-9d93-785e43cb1f07",
   "metadata": {},
   "outputs": [
    {
     "name": "stdin",
     "output_type": "stream",
     "text": [
      "Nhap nam nay: 2025\n",
      "Nhap nam sinh: 2008\n"
     ]
    },
    {
     "name": "stdout",
     "output_type": "stream",
     "text": [
      "Chua du tuoi bau cu\n"
     ]
    }
   ],
   "source": [
    "#BT4+11\n",
    "a=int(input('Nhap nam nay:'))\n",
    "b=int(input('Nhap nam sinh:'))\n",
    "c=b-a\n",
    "if c>=18: print('Du tuoi bau cu')\n",
    "else: print('Chua du tuoi bau cu')"
   ]
  },
  {
   "cell_type": "code",
   "execution_count": 9,
   "id": "69a90e04-a5f5-4b6b-934c-2c214297eb1f",
   "metadata": {},
   "outputs": [
    {
     "name": "stdin",
     "output_type": "stream",
     "text": [
      "Nhap so thu nhat: 4.6\n",
      "Nhap so thu hai: 4.6\n"
     ]
    },
    {
     "name": "stdout",
     "output_type": "stream",
     "text": [
      "Hai so bang nhau\n"
     ]
    }
   ],
   "source": [
    "#BT5\n",
    "a=float(input('Nhap so thu nhat:'))\n",
    "b=float(input('Nhap so thu hai:'))\n",
    "if a==b: print('Hai so bang nhau')\n",
    "elif a>b: print(a,'lon hon',b)\n",
    "else: print(a,'nho hon',b)"
   ]
  },
  {
   "cell_type": "code",
   "execution_count": 12,
   "id": "9fd0f836-bd06-425b-a6a5-9e9e115c3a98",
   "metadata": {},
   "outputs": [
    {
     "name": "stdin",
     "output_type": "stream",
     "text": [
      "Nhap so hoac ki tu: 0.9\n"
     ]
    },
    {
     "name": "stdout",
     "output_type": "stream",
     "text": [
      "Da nhap 1 so\n"
     ]
    }
   ],
   "source": [
    "#BT6\n",
    "a=input('Nhap so hoac ki tu:')\n",
    "if a.isalpha(): print('Da nhap 1 ki tu')\n",
    "else: print('Da nhap 1 so')"
   ]
  },
  {
   "cell_type": "code",
   "execution_count": 19,
   "id": "55ac990c-914d-494b-a80c-34732e921cda",
   "metadata": {},
   "outputs": [
    {
     "name": "stdin",
     "output_type": "stream",
     "text": [
      "Nhap diem: 10\n"
     ]
    },
    {
     "name": "stdout",
     "output_type": "stream",
     "text": [
      "Gioi\n"
     ]
    }
   ],
   "source": [
    "#BT7\n",
    "a=float(input('Nhap diem:'))\n",
    "if a<0 or a>10: print('Nhap lai diem')\n",
    "else: \n",
    "    if a>=8: print('Gioi')\n",
    "    elif a>=6.5 and a<8: print('Kha')\n",
    "    elif a>=5 and a<6.5: print('Trung binh')\n",
    "    else: print('Yeu')\n"
   ]
  },
  {
   "cell_type": "code",
   "execution_count": 28,
   "id": "8c411270-70c5-411d-8d22-b692d6496ed7",
   "metadata": {},
   "outputs": [
    {
     "name": "stdin",
     "output_type": "stream",
     "text": [
      "Nhap nam: 2020\n"
     ]
    },
    {
     "name": "stdout",
     "output_type": "stream",
     "text": [
      "Nam nhuan\n"
     ]
    }
   ],
   "source": [
    "#BT8\n",
    "x=int(input('Nhap nam:'))\n",
    "if (x%400==0) or (x%4==0 and x%100!=0): print('Nam nhuan')\n",
    "else: print('Nam khong nhuan')"
   ]
  },
  {
   "cell_type": "code",
   "execution_count": 29,
   "id": "4b5078bc-ce38-4033-9fe0-da7621900fa4",
   "metadata": {},
   "outputs": [
    {
     "name": "stdin",
     "output_type": "stream",
     "text": [
      "Nhap diem thi: 1\n"
     ]
    },
    {
     "name": "stdout",
     "output_type": "stream",
     "text": [
      "Hoc lai\n"
     ]
    }
   ],
   "source": [
    "#BT10\n",
    "x=float(input('Nhap diem thi:'))\n",
    "if x>=4: print('Qua mon')\n",
    "else: print('Hoc lai')"
   ]
  },
  {
   "cell_type": "code",
   "execution_count": 32,
   "id": "7d427d76-0260-4681-a4af-90b785e9ce32",
   "metadata": {},
   "outputs": [
    {
     "name": "stdin",
     "output_type": "stream",
     "text": [
      "Nhap so: 10\n"
     ]
    },
    {
     "name": "stdout",
     "output_type": "stream",
     "text": [
      "So khong hop le\n"
     ]
    }
   ],
   "source": [
    "#Bai11\n",
    "x=int(input('Nhap so:'))\n",
    "match x:\n",
    " case 0: print('Khong')\n",
    " case 1: print('Mot')\n",
    " case 2: print('Hai')\n",
    " case 3: print('Ba')\n",
    " case 4: print('Bon')\n",
    " case 5: print('Nam')\n",
    " case 6: print('Sau')\n",
    " case 7: print('Bay')\n",
    " case 8: print('Tam')\n",
    " case 9: print('Chin')\n",
    " case _: print('So khong hop le')"
   ]
  },
  {
   "cell_type": "code",
   "execution_count": null,
   "id": "f00f66a7-b84d-4b3e-a812-6650a4a8135f",
   "metadata": {},
   "outputs": [],
   "source": []
  }
 ],
 "metadata": {
  "kernelspec": {
   "display_name": "Python [conda env:base] *",
   "language": "python",
   "name": "conda-base-py"
  },
  "language_info": {
   "codemirror_mode": {
    "name": "ipython",
    "version": 3
   },
   "file_extension": ".py",
   "mimetype": "text/x-python",
   "name": "python",
   "nbconvert_exporter": "python",
   "pygments_lexer": "ipython3",
   "version": "3.13.5"
  }
 },
 "nbformat": 4,
 "nbformat_minor": 5
}
