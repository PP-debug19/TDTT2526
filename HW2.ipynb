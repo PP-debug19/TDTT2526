{
 "cells": [
  {
   "cell_type": "code",
   "execution_count": 7,
   "id": "3dcddb41-d74e-480d-8d69-8c72ef19a202",
   "metadata": {},
   "outputs": [
    {
     "name": "stdin",
     "output_type": "stream",
     "text": [
      "Nhap 2 canh hinh chu nhat: 3 4\n"
     ]
    },
    {
     "name": "stdout",
     "output_type": "stream",
     "text": [
      "Dien tich la: 12.00  Chu vi la: 14.00\n"
     ]
    }
   ],
   "source": [
    "#Bai1\n",
    "line=input('Nhap 2 canh hinh chu nhat:')\n",
    "a,b=map(float,line.split())\n",
    "S=a*b\n",
    "C=(a+b)*2\n",
    "print('Dien tich la:',f'{S:.2f}','','Chu vi la:',f'{C:.2f}')"
   ]
  },
  {
   "cell_type": "code",
   "execution_count": 6,
   "id": "4512631a-b789-47ad-b31a-91e23b5d5e39",
   "metadata": {},
   "outputs": [
    {
     "name": "stdin",
     "output_type": "stream",
     "text": [
      "Nhap ban kinh hinh tron: 5\n"
     ]
    },
    {
     "name": "stdout",
     "output_type": "stream",
     "text": [
      "Dien tich la: 78.54  Chu vi la: 31.42\n"
     ]
    }
   ],
   "source": [
    "#bai2\n",
    "a=float(input('Nhap ban kinh hinh tron:'))\n",
    "import math\n",
    "pi=math.pi\n",
    "S=pi*a**2\n",
    "C=2*pi*a\n",
    "print('Dien tich la:',f'{S:.2f}','','Chu vi la:',f'{C:.2f}')"
   ]
  },
  {
   "cell_type": "code",
   "execution_count": 17,
   "id": "ea7da28b-ceca-4556-8d55-918e6240f947",
   "metadata": {},
   "outputs": [
    {
     "name": "stdin",
     "output_type": "stream",
     "text": [
      "Nhap ba canh tam giac: 3 3 3\n"
     ]
    },
    {
     "name": "stdout",
     "output_type": "stream",
     "text": [
      "Tam giac deu\n",
      "Dien tich la: 3.90  Chu vi la: 9.00\n"
     ]
    }
   ],
   "source": [
    "#bai3\n",
    "line=input('Nhap ba canh tam giac:')\n",
    "a,b,c=map(float,line.split())\n",
    "if (a+b<=c) or (a+c<=b) or (c+b<=a): print('Khong phai la tam giac')\n",
    "else: \n",
    "    if a==b==c: tri='Tam giac deu'\n",
    "    elif (a==b) or (a==c) or (b==c): tri='Tam giac can'\n",
    "    elif (a**2==b**2+c**2) or (b**2==a**2+c**2) or (c**2==a**2+b**2): tri='Tam giac vuong'\n",
    "    else: tri='Tam giac thuong'\n",
    "C=a+b+c\n",
    "import math\n",
    "S=math.sqrt(C/2*(C/2-a)*(C/2-b)*(C/2-c))\n",
    "print(tri)\n",
    "print('Dien tich la:',f'{S:.2f}','','Chu vi la:',f'{C:.2f}')"
   ]
  },
  {
   "cell_type": "code",
   "execution_count": 2,
   "id": "981a0f7a-4a39-4426-8d1a-797262510df3",
   "metadata": {},
   "outputs": [
    {
     "name": "stdin",
     "output_type": "stream",
     "text": [
      "Nhap hai so a,b: 3.2 1.6\n"
     ]
    },
    {
     "name": "stdout",
     "output_type": "stream",
     "text": [
      "Nghiem cua phuong trinh la: -0.50\n"
     ]
    }
   ],
   "source": [
    "#Bai4\n",
    "line=input('Nhap hai so a,b:')\n",
    "a,b=map(float,line.split())\n",
    "if a==0: print('Phuong trinh khong co nghiem')\n",
    "else: x=-b/a\n",
    "print('Nghiem cua phuong trinh la:',f'{x:.2f}')"
   ]
  },
  {
   "cell_type": "code",
   "execution_count": 18,
   "id": "5de514d3-6766-4288-913c-f17cddbf88b0",
   "metadata": {},
   "outputs": [
    {
     "name": "stdin",
     "output_type": "stream",
     "text": [
      "Nhap ba so a,b,c: 15 45 2\n"
     ]
    },
    {
     "name": "stdout",
     "output_type": "stream",
     "text": [
      "Phuong trinh co 2 nghiem: -2.9548768561863463 , -0.045123143813653614\n"
     ]
    }
   ],
   "source": [
    "#Bai5\n",
    "import math\n",
    "line=input('Nhap ba so a,b,c:')\n",
    "a,b,c=map(float, line.split())\n",
    "if a==0: \n",
    "    if b==0:\n",
    "        if c==0:\n",
    "            print('Phuong trinh vo so nghiem')\n",
    "        else:\n",
    "            print('Phuong trinh vo nghiem')\n",
    "    else:\n",
    "        x=-c/b\n",
    "        print('Phuong trinh bac nhat, nghiem x =', x)\n",
    "else:\n",
    "    delta=b**2-4*a*c\n",
    "    if delta<0:\n",
    "        print('Phuong trinh vo nghiem')\n",
    "    elif delta==0:\n",
    "        x=-b/(2*a)\n",
    "        print('Phuong trinh co nghiem kep:', x)\n",
    "    else:\n",
    "        x1=(-b-math.sqrt(delta))/(2*a)\n",
    "        x2=(-b+math.sqrt(delta))/(2*a)\n",
    "        print('Phuong trinh co 2 nghiem:', x1,',', x2)\n"
   ]
  },
  {
   "cell_type": "code",
   "execution_count": 27,
   "id": "f41709e8-18c7-418e-99ba-887c5e6afd60",
   "metadata": {},
   "outputs": [
    {
     "name": "stdin",
     "output_type": "stream",
     "text": [
      " 12 56 32 8\n"
     ]
    },
    {
     "name": "stdout",
     "output_type": "stream",
     "text": [
      "So lon nhat la: 56.0\n"
     ]
    }
   ],
   "source": [
    "#Bai6\n",
    "line=input()\n",
    "a,b,c,d=map(float,line.split())\n",
    "x=a\n",
    "if b>x: x=b\n",
    "if c>x: x=c\n",
    "if d>x: x=d\n",
    "print('So lon nhat la:',x)"
   ]
  },
  {
   "cell_type": "code",
   "execution_count": 38,
   "id": "af1fb062-d0d9-4a9f-8bf7-b3bd1143f9b1",
   "metadata": {},
   "outputs": [
    {
     "name": "stdin",
     "output_type": "stream",
     "text": [
      " 1 2 3 4\n"
     ]
    },
    {
     "name": "stdout",
     "output_type": "stream",
     "text": [
      "So lon nhat la: 4.0\n"
     ]
    }
   ],
   "source": [
    "#Bai6 cach 2\n",
    "line=input()\n",
    "a,b,c,d=map(float,line.split())\n",
    "print('So lon nhat la:',max(a,b,c,d))"
   ]
  },
  {
   "cell_type": "code",
   "execution_count": 29,
   "id": "e0ae924c",
   "metadata": {},
   "outputs": [
    {
     "name": "stdin",
     "output_type": "stream",
     "text": [
      " 45 9 234 9\n"
     ]
    },
    {
     "name": "stdout",
     "output_type": "stream",
     "text": [
      "So nho nhat la: 9.0\n"
     ]
    }
   ],
   "source": [
    "#Bai7\n",
    "line=input()\n",
    "a,b,c,d=map(float,line.split())\n",
    "x=a\n",
    "if b<x: x=b\n",
    "if c<x: x=c\n",
    "if d<x: x=d\n",
    "print('So nho nhat la:',x)"
   ]
  },
  {
   "cell_type": "code",
   "execution_count": 39,
   "id": "c207bc3c-87e7-4c0a-a9a4-904055ef774a",
   "metadata": {},
   "outputs": [
    {
     "name": "stdin",
     "output_type": "stream",
     "text": [
      " 4 3 2 1\n"
     ]
    },
    {
     "name": "stdout",
     "output_type": "stream",
     "text": [
      "So nho nhat la: 1.0\n"
     ]
    }
   ],
   "source": [
    "#Bai7 cach 2\n",
    "line=input()\n",
    "a,b,c,d=map(float,line.split())\n",
    "print('So nho nhat la:',min(a,b,c,d))"
   ]
  },
  {
   "cell_type": "code",
   "execution_count": 5,
   "id": "4deb9286-84da-4e05-afa3-c8774045aecc",
   "metadata": {},
   "outputs": [
    {
     "name": "stdin",
     "output_type": "stream",
     "text": [
      "Nhap cac he so a, b, m, c, d, n:  2 3 8 1 -2 -1\n"
     ]
    },
    {
     "name": "stdout",
     "output_type": "stream",
     "text": [
      "He co nghiem duy nhat\n",
      "x= 1.8571428571428572\n",
      "y= 1.4285714285714286\n"
     ]
    }
   ],
   "source": [
    "#Bai8\n",
    "line = input('Nhap cac he so a, b, m, c, d, n: ')\n",
    "a, b, m, c, d, n = map(float, line.split())\n",
    "if a == 0 and c == 0:\n",
    "    print('Vo nghiem')\n",
    "else:\n",
    "    if a!=0:\n",
    "        mau_y=d-(c*b)/a\n",
    "        if mau_y==0:\n",
    "            print('He co the vo nghiem hoac vo so nghiem')\n",
    "        else:\n",
    "            y=(n-(c*m)/a)/mau_y\n",
    "            x=(m-b*y)/a\n",
    "            print('He co nghiem duy nhat')\n",
    "            print('x=',x)\n",
    "            print('y=',y)\n",
    "    else:\n",
    "        if b==0:\n",
    "            print('Vo nghiem')\n",
    "        else:\n",
    "            y=m/b\n",
    "            if c==0:\n",
    "                print('Vo nghiem')\n",
    "            else:\n",
    "                x=(n-d*y)/c\n",
    "                print('He co nghiem duy nhat')\n",
    "                print('x =', x)\n",
    "                print('y =', y)"
   ]
  },
  {
   "cell_type": "code",
   "execution_count": 6,
   "id": "80bb0699-8022-448e-a41c-2ac89514dc20",
   "metadata": {},
   "outputs": [
    {
     "name": "stdin",
     "output_type": "stream",
     "text": [
      "Nhap cac he so a, b, m, c, d, n:  2 3 8 1 -2 -1\n"
     ]
    },
    {
     "name": "stdout",
     "output_type": "stream",
     "text": [
      "He co nghiem duy nhat\n",
      "x= 1.8571428571428572\n",
      "y= 1.4285714285714286\n"
     ]
    }
   ],
   "source": [
    "#Bai8cach2 - Cong thuc Cramer\n",
    "line = input('Nhap cac he so a, b, m, c, d, n: ')\n",
    "a, b, m, c, d, n = map(float, line.split())\n",
    "D=a*d-b*c\n",
    "Dx=m*d-b*n\n",
    "Dy=a*n-m*c\n",
    "if D!=0:\n",
    "    x=Dx/D\n",
    "    y=Dy/D\n",
    "    print('He co nghiem duy nhat')\n",
    "    print('x=', x)\n",
    "    print('y=', y)\n",
    "else:\n",
    "    if Dx==0 and Dy==0:\n",
    "        print('Vo so nghiem')\n",
    "    else:\n",
    "        print('Vo nghiem')\n"
   ]
  },
  {
   "cell_type": "code",
   "execution_count": 37,
   "id": "f83dac1c-5b13-4d6a-bff6-c75ec5f8aa0b",
   "metadata": {},
   "outputs": [
    {
     "name": "stdin",
     "output_type": "stream",
     "text": [
      "Nhap so giay: 3661\n"
     ]
    },
    {
     "name": "stdout",
     "output_type": "stream",
     "text": [
      "1 gio  1 phut  1 giay\n"
     ]
    }
   ],
   "source": [
    "#Bai9\n",
    "a=int(input('Nhap so giay:'))\n",
    "h=a//3600\n",
    "m=(a%3600)//60\n",
    "s=a%60\n",
    "print(h,'gio','',m,'phut','',s,'giay')"
   ]
  },
  {
   "cell_type": "code",
   "execution_count": 30,
   "id": "817a39de-9c9f-409c-9d5d-6d977954bec7",
   "metadata": {},
   "outputs": [
    {
     "name": "stdin",
     "output_type": "stream",
     "text": [
      "Nhap ban kinh: 5\n",
      "Nhap 2 toa do cua tam: 0 0 \n",
      "Nhap 2 toa do diem A: 3 4\n"
     ]
    },
    {
     "name": "stdout",
     "output_type": "stream",
     "text": [
      "Diem A thuoc duong tron\n"
     ]
    }
   ],
   "source": [
    "#Bai10\n",
    "r=float(input('Nhap ban kinh:'))\n",
    "line=input('Nhap 2 toa do cua tam:')\n",
    "a,b=map(float,line.split())\n",
    "line=input('Nhap 2 toa do diem A:')\n",
    "x,y=map(float,line.split())\n",
    "import math\n",
    "d=math.sqrt((a-x)**2+(b-y)**2)\n",
    "if r==d: print('Diem A thuoc duong tron')\n",
    "elif r>d: print('Diem A nam trong duong tron')\n",
    "elif r<d: print('Diem A nam ngoai duong tron')"
   ]
  },
  {
   "cell_type": "code",
   "execution_count": 35,
   "id": "561513f7-a9d5-4bae-a7c8-04afb9419c5f",
   "metadata": {},
   "outputs": [
    {
     "name": "stdin",
     "output_type": "stream",
     "text": [
      "Nhap hai so x,y: 8 2\n"
     ]
    },
    {
     "name": "stdout",
     "output_type": "stream",
     "text": [
      "Ket qua: 64.0\n"
     ]
    }
   ],
   "source": [
    "#Bai11\n",
    "line=input('Nhap hai so x,y:')\n",
    "x,y=map(float,line.split())\n",
    "print('Ket qua:',x**y)"
   ]
  },
  {
   "cell_type": "code",
   "execution_count": null,
   "id": "7f049eaa-6385-4d91-94d3-deba8a91c222",
   "metadata": {},
   "outputs": [],
   "source": []
  }
 ],
 "metadata": {
  "kernelspec": {
   "display_name": "Python [conda env:base] *",
   "language": "python",
   "name": "conda-base-py"
  },
  "language_info": {
   "codemirror_mode": {
    "name": "ipython",
    "version": 3
   },
   "file_extension": ".py",
   "mimetype": "text/x-python",
   "name": "python",
   "nbconvert_exporter": "python",
   "pygments_lexer": "ipython3",
   "version": "3.13.5"
  }
 },
 "nbformat": 4,
 "nbformat_minor": 5
}
